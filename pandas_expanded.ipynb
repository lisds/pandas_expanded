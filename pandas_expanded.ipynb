{
 "cells": [
  {
   "cell_type": "code",
   "execution_count": null,
   "id": "ab5b1b0a",
   "metadata": {
    "deletable": false,
    "editable": false
   },
   "outputs": [],
   "source": [
    "# Initialize Otter\n",
    "import otter\n",
    "grader = otter.Notebook(\"pandas_expanded.ipynb\")"
   ]
  },
  {
   "cell_type": "markdown",
   "id": "5bdb584d",
   "metadata": {
    "nbgrader": {
     "grade": false,
     "grade_id": "intro-hw2",
     "locked": true,
     "schema_version": 2,
     "solution": false
    }
   },
   "source": [
    "# Food Safety (Continued)\n",
    "\n",
    "In which explore more cleaning and Exploring Data with Pandas.\n",
    "\n",
    "## This Assignment\n",
    "\n",
    "In this assignment, we will continue our exploration of restaurant food safety\n",
    "scores for restaurants in San Francisco. The main goal for this assignment is\n",
    "to focus more on the analysis of the dataset, building on the data cleaning we\n",
    "have done in the previous notebook.\n",
    "\n",
    "\n",
    "After this assignment, you should be comfortable with:\n",
    "* Reading `pandas` documentation and using `pandas` methods,\n",
    "* Working with data at different levels of granularity,\n",
    "* Using `groupby` with different aggregation functions,\n",
    "* Chaining different `pandas` functions and methods to find answers to exploratory questions.\n",
    "\n",
    "\n",
    "## Score Breakdown \n",
    "Question | Manual | Points\n",
    "--- | --- | ---\n",
    "1a | no | 2\n",
    "1b | no | 3\n",
    "2a | no | 2\n",
    "2b | no | 3\n",
    "2c | no | 1\n",
    "2d | no | 1\n",
    "3a | no | 1\n",
    "3b | no | 2\n",
    "3c | yes | 3\n",
    "3e | yes | 3\n",
    "4 | no | 3\n",
    "Total | 2 | 24\n"
   ]
  },
  {
   "cell_type": "markdown",
   "id": "2d96b12f",
   "metadata": {},
   "source": [
    "## Before You Start\n",
    "\n",
    "For each question in the assignment, please write down your answer in the\n",
    "answer cell(s) right below the question. \n",
    "\n",
    "**Important note: The local autograder tests will not be comprehensive. You can\n",
    "pass the automated tests in your notebook but still fail tests in the\n",
    "autograder.** Please be sure to check your results carefully.\n",
    "\n",
    "Unless we state otherwise, **do not use for loops or list comprehensions**. The\n",
    "majority of this assignment can be done using built-in commands in `pandas` and\n",
    "`NumPy`.  You're depriving yourself of key learning objectives if you write\n",
    "loops / comprehensions.\n"
   ]
  },
  {
   "cell_type": "code",
   "execution_count": null,
   "id": "03ef911b",
   "metadata": {
    "nbgrader": {
     "grade": false,
     "grade_id": "import",
     "locked": true,
     "schema_version": 2,
     "solution": false
    }
   },
   "outputs": [],
   "source": [
    "import numpy as np\n",
    "import pandas as pd\n",
    "pd.set_option('mode.copy_on_write', True)"
   ]
  },
  {
   "cell_type": "markdown",
   "id": "65b42b55",
   "metadata": {},
   "source": [
    "<hr style=\"border: 5px solid #003262;\" />\n",
    "<hr style=\"border: 1px solid #fdb515;\" />"
   ]
  },
  {
   "cell_type": "markdown",
   "id": "01f67f78",
   "metadata": {},
   "source": [
    "In the previous notebook, we took you through the entire process of reading\n",
    "data from a file to perform some exploration of the data. Here, we again load\n",
    "the dataset that we will be using along with some of the columns we\n",
    "had added in the previous notebook. For any additional context regarding the\n",
    "dataset, feel free to revisit the previous notebook."
   ]
  },
  {
   "cell_type": "code",
   "execution_count": null,
   "id": "7a49bd97",
   "metadata": {},
   "outputs": [],
   "source": [
    "bus = pd.read_csv('data/bus.csv', encoding='ISO-8859-1').rename(columns={\"business id column\": \"bid\"})\n",
    "bus['postal5'] = bus['postal_code'].str[:5]\n",
    "ins = pd.read_csv('data/ins.csv')\n",
    "ins['timestamp'] = pd.to_datetime(ins['date'], format='%m/%d/%Y %I:%M:%S %p')\n",
    "ins['bid'] = ins['iid'].str.split(\"_\", expand=True)[0].astype(int) \n",
    "\n",
    "# This code is essential for the autograder to function properly. Do not edit.\n",
    "ins_test = ins"
   ]
  },
  {
   "cell_type": "markdown",
   "id": "ba7fffd5",
   "metadata": {
    "nbgrader": {
     "grade": false,
     "grade_id": "business-data",
     "locked": true,
     "schema_version": 2,
     "solution": false
    }
   },
   "source": [
    "<br/><br/>\n",
    "\n",
    "---\n",
    "\n",
    "\n",
    "# Question 1: Inspecting the Inspections\n",
    "\n",
    "\n",
    "## Question 1a"
   ]
  },
  {
   "cell_type": "markdown",
   "id": "15d2fde0",
   "metadata": {
    "deletable": false,
    "editable": false,
    "nbgrader": {
     "grade": false,
     "grade_id": "cell-174ed23c543ad9da",
     "locked": true,
     "schema_version": 2,
     "solution": false
    }
   },
   "source": [
    "Let's start by looking again at the first 5 rows of `ins` to see what we're working with."
   ]
  },
  {
   "cell_type": "code",
   "execution_count": null,
   "id": "4c8c2ed1",
   "metadata": {
    "deletable": false,
    "editable": false,
    "nbgrader": {
     "grade": false,
     "grade_id": "cell-f0fbe724a2783e33",
     "locked": true,
     "schema_version": 2,
     "solution": false
    }
   },
   "outputs": [],
   "source": [
    "ins.head(5)"
   ]
  },
  {
   "cell_type": "markdown",
   "id": "d97a8778",
   "metadata": {
    "deletable": false,
    "editable": false
   },
   "source": [
    "To better understand how the scores have been allocated, examine how the maximum score varies for each type of inspection. Create a `DataFrame` object `ins_score_by_type`, indexed by all the inspection types (e.g., New Construction, Routine - Unscheduled, etc.), with a single column named `max_score` containing the highest score received. You may find the `.rename()` method useful here!"
   ]
  },
  {
   "cell_type": "code",
   "execution_count": null,
   "id": "bd39134a",
   "metadata": {},
   "outputs": [],
   "source": [
    "ins_score_by_type = ...\n",
    "# Show the result\n",
    "ins_score_by_type"
   ]
  },
  {
   "cell_type": "code",
   "execution_count": null,
   "id": "7e6a5a35",
   "metadata": {
    "deletable": false,
    "editable": false
   },
   "outputs": [],
   "source": [
    "grader.check(\"q1a\")"
   ]
  },
  {
   "cell_type": "markdown",
   "id": "3b65679e",
   "metadata": {
    "deletable": false,
    "editable": false
   },
   "source": [
    "<br/>\n",
    "\n",
    "---\n",
    "\n",
    "## Question 1b\n"
   ]
  },
  {
   "cell_type": "markdown",
   "id": "f8f76fce",
   "metadata": {
    "deletable": false,
    "editable": false
   },
   "source": [
    "Given the variability of `ins['score']` observed in 1.a, let's examine the inspection scores `ins['score']` further."
   ]
  },
  {
   "cell_type": "code",
   "execution_count": null,
   "id": "390484b4",
   "metadata": {
    "deletable": false,
    "editable": false
   },
   "outputs": [],
   "source": [
    "ins['score'].value_counts().head()"
   ]
  },
  {
   "cell_type": "markdown",
   "id": "ba6cfdbf",
   "metadata": {
    "deletable": false,
    "editable": false
   },
   "source": [
    "There are a large number of inspections with a `score` of `-1`. These are probably missing values. Let's see what types of inspections have scores and which do not (score of -1).  We have defined for you a new column `'Missing Score'` that shows `True` if the score for that business is `-1` to help you out with the analysis. \n",
    "\n",
    "Use `.groupby` to find out the number of scores that every combination of `type` and `Missing Score` can take on. The result should be a **`DataFrame`** that should look **exactly** as shown below:\n",
    "\n",
    "<center> <img src=\"pics/1b.png\" width=\"400\"/> \n"
   ]
  },
  {
   "cell_type": "code",
   "execution_count": null,
   "id": "49e65eb9",
   "metadata": {},
   "outputs": [],
   "source": [
    "ins['Missing Score'] = (ins['score'] == -1).astype(\"str\")\n",
    "ins_missing_score_group = ...\n",
    "# Show the result\n",
    "ins_missing_score_group"
   ]
  },
  {
   "cell_type": "code",
   "execution_count": null,
   "id": "a39211c1",
   "metadata": {
    "deletable": false,
    "editable": false
   },
   "outputs": [],
   "source": [
    "grader.check(\"q1b\")"
   ]
  },
  {
   "cell_type": "markdown",
   "id": "08a8c58e",
   "metadata": {},
   "source": [
    "---"
   ]
  },
  {
   "cell_type": "markdown",
   "id": "d259eba1",
   "metadata": {},
   "source": [
    "# Question 2: Joining Data Across Tables\n",
    "\n",
    "In this question, we will start to connect data across multiple tables. We will be using the `merge` function. \n"
   ]
  },
  {
   "cell_type": "markdown",
   "id": "a616afb0",
   "metadata": {},
   "source": [
    "<br/>\n",
    "\n",
    "--- \n",
    "\n",
    "## Question 2a\n",
    "\n",
    "Let's figure out which restaurants had the lowest scores. Before we proceed,\n",
    "let's filter out missing scores from `ins` so that negative scores don't\n",
    "influence our results.\n",
    "\n",
    "Note that there might be something interesting we could learn from businesses\n",
    "with missing scores, but we are omitting such analysis from this assignment. You\n",
    "might consider exploring this for the optional question at the end.\n",
    "\n",
    "Note: We have no idea if there is actually anything interesting to learn as we\n",
    "have not attempted this ourselves."
   ]
  },
  {
   "cell_type": "code",
   "execution_count": null,
   "id": "d77f772f",
   "metadata": {
    "deletable": false,
    "editable": false
   },
   "outputs": [],
   "source": [
    "# Run this cell.\n",
    "ins_pos = ins[ins[\"score\"] > 0]\n",
    "ins_pos.head()"
   ]
  },
  {
   "cell_type": "markdown",
   "id": "14b1264e",
   "metadata": {
    "deletable": false,
    "editable": false
   },
   "source": [
    "We'll start by creating a new `DataFrame` called `ins_named`. It should be\n",
    "exactly the same as `ins_pos`, except that it should have the name and address\n",
    "of every business, as determined by the `bus` DataFrame.\n",
    "\n",
    "**Hint**: Use the `merge` method to join the `ins_pos` DataFrame with the\n",
    "appropriate portion of the `bus` DataFrame. See the [textbook page on\n",
    "merge](https://lisds.github.io/textbook/useful-pandas/merge.html) and the\n",
    "official\n",
    "[documentation](https://pandas.pydata.org/pandas-docs/stable/user_guide/merging.html)\n",
    "on how to use `merge`. The first few rows of the resulting `DataFrame` you\n",
    "create are shown below:\n",
    "\n",
    "<img src=\"pics/2a.png\" width=\"1080\"/>"
   ]
  },
  {
   "cell_type": "code",
   "execution_count": null,
   "id": "f6d30930",
   "metadata": {},
   "outputs": [],
   "source": [
    "# To remind you about the bus data frame.\n",
    "bus.head()"
   ]
  },
  {
   "cell_type": "code",
   "execution_count": null,
   "id": "d552c8ee",
   "metadata": {},
   "outputs": [],
   "source": [
    "...\n",
    "ins_named = ins_pos.merge(...)\n",
    "# Show the result\n",
    "ins_named.head()"
   ]
  },
  {
   "cell_type": "code",
   "execution_count": null,
   "id": "2bb84a50",
   "metadata": {
    "deletable": false,
    "editable": false
   },
   "outputs": [],
   "source": [
    "grader.check(\"q2a\")"
   ]
  },
  {
   "cell_type": "markdown",
   "id": "22391f14",
   "metadata": {},
   "source": [
    "<br/>\n",
    "\n",
    "--- \n",
    "\n",
    "## Question 2b\n",
    "\n",
    "Let's look at the 20 businesses in `ins_named` with the lowest **median** score. Order your results by the median score followed by the business name to break ties. The resulting table should look like the table below.\n",
    "\n",
    "This one is pretty challenging! Don't forget to rename the `score` column. \n",
    "\n",
    "**Hint**: The `agg` function can accept a dictionary as an input. See the [agg documentation](https://pandas.pydata.org/pandas-docs/version/0.22/generated/pandas.core.groupby.DataFrameGroupBy.agg.html). Additionally, when thinking about what aggregation functions to use, ask yourself what value would be in the `\"name\"` column for each entry across the group? Can we select just one of these values to represent the whole group?\n",
    "\n",
    "As usual, **YOU SHOULD NOT USE LOOPS OR LIST COMPREHENSIONS**. Try and break down the problem piece by piece instead, gradually chaining together different `pandas` functions. Feel free to use more than one line!\n",
    "\n",
    "<table border=\"1\" class=\"dataframe\">  <thead>    \n",
    "    <tr style=\"text-align: right;\">      <th></th>      <th>name</th>      <th>median score</th>    </tr> \n",
    "    <tr  align=\"right\">  <th align=\"right\">bid</th>      <th></th>      <th></th>    </tr> </thead>  <tbody>    \n",
    "    <tr  align=\"right\">      <th>84590</th>      <td>Chaat Corner</td>      <td>54.0</td>    </tr>    \n",
    "    <tr  align=\"right\">        <th>90622</th>      <td>Taqueria Lolita</td>      <td>57.0</td>    </tr>    \n",
    "    <tr  align=\"right\">         <th>94351</th>      <td>VBowls LLC</td>      <td>58.0</td>    </tr>    \n",
    "    <tr  align=\"right\">          <th>69282</th>      <td>New Jumbo Seafood Restaurant</td>      <td>60.5</td>    </tr>    \n",
    "    <tr  align=\"right\">         <th>1154</th>      <td>SUNFLOWER RESTAURANT</td>      <td>63.5</td>    </tr>  \n",
    "    <tr  align=\"right\">          <th>93150</th>      <td>Chez Beesen</td>      <td>64.0</td>    </tr>   \n",
    "    <tr  align=\"right\">     <th>39776</th>      <td>Duc Loi Supermarket</td>      <td>64.0</td>    </tr>  \n",
    "    <tr  align=\"right\">         <th>78328</th>      <td>Golden Wok</td>      <td>64.0</td>    </tr>  \n",
    "    <tr  align=\"right\">          <th>69397</th>      <td>Minna SF Group LLC</td>      <td>64.0</td>    </tr>     \n",
    "    <tr  align=\"right\">        <th>93502</th>      <td>Smoky Man</td>      <td>64.0</td>    </tr>    \n",
    "    <tr  align=\"right\">           <th>98995</th>      <td>Vallarta's Taco Bar</td>      <td>64.0</td>    </tr>    \n",
    "    <tr  align=\"right\">         <th>10877</th>      <td>CHINA FIRST INC.</td>      <td>64.5</td>    </tr>    \n",
    "    <tr  align=\"right\">        <th>71310</th>      <td>Golden King Vietnamese Restaurant</td>      <td>64.5</td>    </tr>     \n",
    "    <tr  align=\"right\">          <th>89070</th>      <td>Lafayette Coffee Shop</td>      <td>64.5</td>    </tr>\n",
    "    <tr  align=\"right\">          <th>71008</th>      <td>House of Pancakes</td>      <td>65.0</td>    </tr> \n",
    "    <tr  align=\"right\">         <th>2542</th>      <td>PETER D'S RESTAURANT</td>      <td>65.0</td>    </tr>           \n",
    "    <tr  align=\"right\">        <th>3862</th>      <td>IMPERIAL GARDEN SEAFOOD RESTAURANT</td>      <td>66.0</td>    </tr>   \n",
    "    <tr  align=\"right\">         <th>61427</th>      <td>Nick's Foods</td>      <td>66.0</td>    </tr>    \n",
    "    <tr  align=\"right\">          <th>72176</th>      <td>Wolfes Lunch</td>      <td>66.0</td>    </tr>    \n",
    "    <tr  align=\"right\">        <th>89141</th>      <td>Cha Cha Cha on Mission</td>      <td>66.5</td>    </tr>  </tbody></table>"
   ]
  },
  {
   "cell_type": "code",
   "execution_count": null,
   "id": "2e152db4",
   "metadata": {},
   "outputs": [],
   "source": [
    "twenty_lowest_scoring = ...\n",
    "                        ...\n",
    "#- DO NOT USE LIST COMPREHENSIONS OR LOOPS OF ANY KIND!!!\n",
    "...\n",
    "# Show the result\n",
    "twenty_lowest_scoring"
   ]
  },
  {
   "cell_type": "code",
   "execution_count": null,
   "id": "0d7e2ffe",
   "metadata": {
    "deletable": false,
    "editable": false
   },
   "outputs": [],
   "source": [
    "grader.check(\"q2b\")"
   ]
  },
  {
   "cell_type": "markdown",
   "id": "2db0d6c0",
   "metadata": {
    "deletable": false,
    "editable": false
   },
   "source": [
    "<br/>\n",
    "\n",
    "---\n",
    "\n",
    "## Question 2c\n",
    "\n",
    "Let's figure out which restaurant had the worst score ever (single lowest\n",
    "score).\n",
    "\n",
    "In the cell below, assign `worst_restaurant` to the name of the restaurant with\n",
    "the **lowest inspection score ever**. We should not be considering restaurants\n",
    "with missing scores, so this should not be a restaurant that has a score of\n",
    "`-1`. For fun: Look up the reviews for this restaurant on Yelp. Do you see any\n",
    "reviews that indicate this restaurant had health inspection issues?\n"
   ]
  },
  {
   "cell_type": "code",
   "execution_count": null,
   "id": "a0a42c25",
   "metadata": {},
   "outputs": [],
   "source": [
    "worst_restaurant = ...\n",
    "# Show the result\n",
    "worst_restaurant"
   ]
  },
  {
   "cell_type": "code",
   "execution_count": null,
   "id": "33f786a6",
   "metadata": {
    "deletable": false,
    "editable": false
   },
   "outputs": [],
   "source": [
    "grader.check(\"q2c\")"
   ]
  },
  {
   "cell_type": "markdown",
   "id": "bf40896c",
   "metadata": {
    "deletable": false,
    "editable": false
   },
   "source": [
    "<br/>\n",
    "\n",
    "---\n",
    "\n",
    "## Question 2d\n",
    "\n",
    "Did this restaurant clean up its act? Look in the database to see if it scored better on its next inspection. Assign `cleaned_up` to `True` or `False`, depending on whether it performed better or not."
   ]
  },
  {
   "cell_type": "code",
   "execution_count": null,
   "id": "2c541ae7",
   "metadata": {},
   "outputs": [],
   "source": [
    "#- SCRATCH WORK"
   ]
  },
  {
   "cell_type": "code",
   "execution_count": null,
   "id": "bb755a4c",
   "metadata": {},
   "outputs": [],
   "source": [
    "cleaned_up = ..."
   ]
  },
  {
   "cell_type": "code",
   "execution_count": null,
   "id": "d3e8321d",
   "metadata": {
    "deletable": false,
    "editable": false
   },
   "outputs": [],
   "source": [
    "grader.check(\"q2d\")"
   ]
  },
  {
   "cell_type": "markdown",
   "id": "67c0139e",
   "metadata": {},
   "source": [
    "<br/><br/>\n",
    "\n",
    "---\n",
    "# Question 3: I Scream, You Scream \n",
    "\n",
    "Now that you've analyzed and found out which restaurants to avoid in SF, we can turn toward the more interesting question of what dessert places are the best! For the purposes of this question, we assume that ice cream is the best dessert (and rightfully so!)"
   ]
  },
  {
   "cell_type": "markdown",
   "id": "2dd7cba3",
   "metadata": {
    "deletable": false,
    "editable": false
   },
   "source": [
    "<br/>\n",
    "\n",
    "--- \n",
    "## Question 3a\n",
    "\n",
    "In your quest to find the best ice cream shop, the first step is to find all the businesses in `ins_named` that **contain the word 'ice cream'** in their `name`, and assign the resulting `DataFrame` to `ice_cream_shops`. To help you out, we created the `lowercase_name` column so you do not need to worry about checking for capitalized letters when checking if `name` contains 'ice cream'.\n",
    "\n",
    "**Hint:** You might find the `.str` accessors useful yet again!"
   ]
  },
  {
   "cell_type": "code",
   "execution_count": null,
   "id": "c81bbb0a",
   "metadata": {},
   "outputs": [],
   "source": [
    "ins_named['lowercase_name'] = ins_named['name'].str.lower()\n",
    "ice_cream_shops = ...\n",
    "# Show the first 10 rows.\n",
    "ice_cream_shops.head(10)"
   ]
  },
  {
   "cell_type": "code",
   "execution_count": null,
   "id": "c54c10b0",
   "metadata": {
    "deletable": false,
    "editable": false
   },
   "outputs": [],
   "source": [
    "grader.check(\"q3a\")"
   ]
  },
  {
   "cell_type": "markdown",
   "id": "d1b821d7",
   "metadata": {
    "deletable": false,
    "editable": false
   },
   "source": [
    "<br/>\n",
    "\n",
    "---\n",
    "\n",
    "## Question 3b\n",
    "\n",
    "Assign to `ice_cream_at_least_3` a `DataFrame` consisting of only those ice\n",
    "cream shops that have had at least 3 inspections. Remember, the `bid` uniquely\n",
    "defines an ice cream shop at a particular location, not its `name`!\n",
    "\n",
    "Here we want a data frame that has all inspections for all ice cream shows with\n",
    "3 or more inspections.\n",
    "\n",
    "**Hint** - you might find `.filter` useful here.  We did!"
   ]
  },
  {
   "cell_type": "code",
   "execution_count": null,
   "id": "a337b0ff",
   "metadata": {},
   "outputs": [],
   "source": [
    "ice_cream_at_least_3 = ...\n",
    "# Show the first five rows.\n",
    "ice_cream_at_least_3.head()"
   ]
  },
  {
   "cell_type": "code",
   "execution_count": null,
   "id": "e13348cc",
   "metadata": {
    "deletable": false,
    "editable": false
   },
   "outputs": [],
   "source": [
    "grader.check(\"q3b\")"
   ]
  },
  {
   "cell_type": "markdown",
   "id": "5bd1aac8",
   "metadata": {
    "deletable": false,
    "editable": false
   },
   "source": [
    "\n",
    "\n",
    "<br/>\n",
    "\n",
    "---\n",
    "\n",
    "## Question 3c\n",
    "\n",
    "In the cell below, run the following line of code: `q3c_df = ice_cream_shops.sort_values('timestamp').groupby('bid').agg('first')`\n",
    "\n",
    "Is the granularity of `ice_cream_at_least_3` the same as the granularity of `q3c_df`? In other words, what does a single row of `q3c_df` represent, and what does a single row in ice_cream_at_least_3 represent? Explain the granularity of each `DataFrame`. Your answer does not need to be more than 2-3 lines, but you should be specific."
   ]
  },
  {
   "cell_type": "code",
   "execution_count": null,
   "id": "200ccfe1",
   "metadata": {
    "deletable": false,
    "editable": false
   },
   "outputs": [],
   "source": [
    "q3c_df = ice_cream_shops.sort_values('timestamp').groupby('bid').agg('first')\n",
    "q3c_df.head()"
   ]
  },
  {
   "cell_type": "markdown",
   "id": "3755e083",
   "metadata": {
    "manual_grade": true,
    "manual_problem_id": "ice_cream_granularity"
   },
   "source": [
    "_Type your answer here, replacing this text._"
   ]
  },
  {
   "cell_type": "markdown",
   "id": "eb395927",
   "metadata": {
    "deletable": false,
    "editable": false
   },
   "source": [
    "\n",
    "\n",
    "<br/>\n",
    "\n",
    "\n",
    "\n",
    "\n",
    "<br/>\n",
    "\n",
    "---\n",
    "\n",
    "## Question 3e\n",
    "\n",
    "Finally, to examine different parts of a chained pandas statement, describe the purpose of each of the functions used (`.loc`, `.groupby`, `idxmax()`) in words. \n",
    "\n",
    "Secondly, share what you think this line of code accomplishes. In other words, write a question that could be answered using this statement.\n",
    "\n",
    "While the first part of this question will be graded for correctness, the second part of this question is a bit more open-ended. Answers demonstrating your understanding will get full credit."
   ]
  },
  {
   "cell_type": "code",
   "execution_count": null,
   "id": "d059da26",
   "metadata": {
    "deletable": false,
    "editable": false
   },
   "outputs": [],
   "source": [
    "ice_cream_at_least_3.loc[ice_cream_at_least_3.groupby(\"bid\")[\"score\"].idxmax()].head()"
   ]
  },
  {
   "cell_type": "markdown",
   "id": "77399220",
   "metadata": {
    "manual_grade": true,
    "manual_problem_id": "about_groupby"
   },
   "source": [
    "_Type your answer here, replacing this text._"
   ]
  },
  {
   "cell_type": "code",
   "execution_count": null,
   "id": "cb78603d",
   "metadata": {},
   "outputs": [],
   "source": [
    "# You may do some scratch work in this cell, however, only your written answer will be graded. \n",
    "# Any outputs or dataframes you generate here will not be counted as part of your explanation."
   ]
  },
  {
   "cell_type": "markdown",
   "id": "35631837",
   "metadata": {
    "deletable": false,
    "editable": false
   },
   "source": [
    "\n",
    "\n",
    "<br/><br/>\n",
    "\n",
    "---\n",
    "\n",
    "# Question 4: Restaurant Ratings Over Time\n",
    "\n",
    "As a final challenge, we consider a scenario involving restaurants with multiple ratings over time.\n",
    "\n",
    "Let's see which restaurant location has had the most extreme improvement in its scores. Let the \"swing\" of a restaurant location be defined as the difference between its highest-ever and lowest-ever score. **Only consider restaurant locations with at least 3 scores—that is, restaurants that were rated at least 3 times.** Assign `max_swing` to the name of the restaurant that has the maximum swing. \n",
    "\n",
    "We have not provided any skeleton, as there are many paths to getting the correct answer. The recommended approach to solving this problem is to break it down into smaller chunks (e.g., first, ensure all restaurants have at least 3 scores; second, compute ... ). This will likely require more than one line, so feel free to add/remove columns and define new temporary variables. Remember to assign your solution - a string containing the `name` of the restaurant location that experienced the most extreme improvement - to `max_swing` after you do so. \n",
    "\n",
    "**Note**: The \"swing\" is of a specific restaurant location. There might be some restaurants with multiple locations; we are focusing on the swing of a particular restaurant as specified by its `name` and `address`.\n",
    "\n"
   ]
  },
  {
   "cell_type": "code",
   "execution_count": null,
   "id": "45ed206c",
   "metadata": {},
   "outputs": [],
   "source": [
    "...\n",
    "max_swing = ...\n",
    "# Show the result\n",
    "max_swing"
   ]
  },
  {
   "cell_type": "code",
   "execution_count": null,
   "id": "0fc05b3a",
   "metadata": {
    "deletable": false,
    "editable": false
   },
   "outputs": [],
   "source": [
    "grader.check(\"q4\")"
   ]
  },
  {
   "cell_type": "markdown",
   "id": "7f5ba334",
   "metadata": {},
   "source": [
    "## Summary of Inspections Data\n",
    "\n",
    "We have done a lot in this assignment!\n",
    "\n",
    "- Broke down the inspection scores in detail using `.groupby` and `.pivot_table`,\n",
    "- Joined the business and inspection data and identified the name of the restaurant with the worst rating,\n",
    "- Took a deep dive into the sweet world of ice cream and found the best spots under varying metrics,\n",
    "- Took a swing at analyzing how restaurant inspection scores change over time!\n",
    "\n",
    "Over the course of this 2-part assignment, we hope you have become more familiar\n",
    "with `pandas` - in terms of identifying when to use particular functions, how\n",
    "they work, when they can support exploratory data analysis (EDA) - as well as\n",
    "about EDA and Data Cleaning, as part of the broader Data Science Lifecycle.\n",
    "These tools will serve you well as a data scientist!\n",
    "\n",
    "<hr style=\"border: 5px solid #003262;\" />\n",
    "<hr style=\"border: 1px solid #fdb515;\" />"
   ]
  },
  {
   "cell_type": "markdown",
   "id": "d6c15b88",
   "metadata": {},
   "source": [
    "## Congratulations! You have finished this notebook! ##\n",
    "\n",
    "Make sure you have run all cells in your notebook in order before running the\n",
    "cell below, so you can check your answers.\n",
    "\n"
   ]
  },
  {
   "cell_type": "code",
   "execution_count": null,
   "id": "4d2a7279",
   "metadata": {},
   "outputs": [],
   "source": [
    "grader.check_all()"
   ]
  }
 ],
 "metadata": {
  "celltoolbar": "Create Assignment",
  "jupytext": {
   "cell_metadata_json": true,
   "notebook_metadata_filter": "all,-language_info",
   "split_at_heading": true,
   "text_representation": {
    "extension": ".Rmd",
    "format_name": "rmarkdown",
    "format_version": "1.2",
    "jupytext_version": "1.15.2"
   }
  },
  "kernelspec": {
   "display_name": "Python 3 (ipykernel)",
   "language": "python",
   "name": "python3"
  },
  "otter": {
   "OK_FORMAT": true,
   "tests": {
    "q1a": {
     "name": "q1a",
     "points": 2,
     "suites": [
      {
       "cases": [
        {
         "code": ">>> len(ins_score_by_type.columns) == 1\nTrue",
         "hidden": false,
         "locked": false
        },
        {
         "code": ">>> ins_score_by_type.columns[0] == 'max_score'\nTrue",
         "hidden": false,
         "locked": false
        },
        {
         "code": ">>> set(ins_score_by_type.index) == set(ins['type'].unique())\nTrue",
         "hidden": false,
         "locked": false
        }
       ],
       "scored": true,
       "setup": "",
       "teardown": "",
       "type": "doctest"
      }
     ]
    },
    "q1b": {
     "name": "q1b",
     "points": 3,
     "suites": [
      {
       "cases": [
        {
         "code": ">>> ins_missing_score_group.columns[0] == 'Count'\nTrue",
         "hidden": false,
         "locked": false
        },
        {
         "code": ">>> len(ins_missing_score_group) == 16\nTrue",
         "hidden": false,
         "locked": false
        }
       ],
       "scored": true,
       "setup": "",
       "teardown": "",
       "type": "doctest"
      }
     ]
    },
    "q2a": {
     "name": "q2a",
     "points": 2,
     "suites": [
      {
       "cases": [
        {
         "code": ">>> \"name\" in ins_named and \"address\" in ins_named\nTrue",
         "hidden": false,
         "locked": false
        },
        {
         "code": ">>> ins_named[ins_named[\"Missing Score\"] == True].shape[0] == 0\nTrue",
         "hidden": false,
         "locked": false
        },
        {
         "code": ">>> ins_named.reset_index()['date'].equals(ins[ins['score'] > 0].reset_index()['date'])\nTrue",
         "hidden": false,
         "locked": false
        }
       ],
       "scored": true,
       "setup": "",
       "teardown": "",
       "type": "doctest"
      }
     ]
    },
    "q2b": {
     "name": "q2b",
     "points": 3,
     "suites": [
      {
       "cases": [
        {
         "code": ">>> assert  twenty_lowest_scoring.shape == (20, 2) # two columns\n>>> assert len(twenty_lowest_scoring.index.names) == 1 # single index\n",
         "hidden": false,
         "locked": false
        },
        {
         "code": ">>> twenty_lowest_scoring.iloc[0][0] == 'Chaat Corner'\nTrue",
         "hidden": false,
         "locked": false
        }
       ],
       "scored": true,
       "setup": "",
       "teardown": "",
       "type": "doctest"
      }
     ]
    },
    "q2c": {
     "name": "q2c",
     "points": 1,
     "suites": [
      {
       "cases": [
        {
         "code": ">>> (type(worst_restaurant) == str) and (len(worst_restaurant) > 0) \nTrue",
         "hidden": false,
         "locked": false
        },
        {
         "code": ">>> ins_named[ins_named['name'] == worst_restaurant]['score'].min() != -1\nTrue",
         "hidden": false,
         "locked": false
        }
       ],
       "scored": true,
       "setup": "",
       "teardown": "",
       "type": "doctest"
      }
     ]
    },
    "q2d": {
     "name": "q2d",
     "points": 1,
     "suites": [
      {
       "cases": [
        {
         "code": ">>> cleaned_up in [True, False]\nTrue",
         "hidden": false,
         "locked": false
        }
       ],
       "scored": true,
       "setup": "",
       "teardown": "",
       "type": "doctest"
      }
     ]
    },
    "q3a": {
     "name": "q3a",
     "points": 1,
     "suites": [
      {
       "cases": [
        {
         "code": ">>> len(ice_cream_shops) == 65\nTrue",
         "hidden": false,
         "locked": false
        },
        {
         "code": ">>> type(ice_cream_shops) == pd.DataFrame\nTrue",
         "hidden": false,
         "locked": false
        }
       ],
       "scored": true,
       "setup": "",
       "teardown": "",
       "type": "doctest"
      }
     ]
    },
    "q3b": {
     "name": "q3b",
     "points": 2,
     "suites": [
      {
       "cases": [
        {
         "code": ">>> ice_cream_at_least_3.shape[0] > 40 and ice_cream_at_least_3.shape[0] < 60\nTrue",
         "hidden": false,
         "locked": false
        }
       ],
       "scored": true,
       "setup": "",
       "teardown": "",
       "type": "doctest"
      }
     ]
    },
    "q4": {
     "name": "q4",
     "points": 3,
     "suites": [
      {
       "cases": [
        {
         "code": ">>> max_swing in set(bus['name'])\nTrue",
         "hidden": false,
         "locked": false
        }
       ],
       "scored": true,
       "setup": "",
       "teardown": "",
       "type": "doctest"
      }
     ]
    }
   }
  }
 },
 "nbformat": 4,
 "nbformat_minor": 5
}
